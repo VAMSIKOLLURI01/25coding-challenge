{
  "nbformat": 4,
  "nbformat_minor": 0,
  "metadata": {
    "colab": {
      "provenance": [],
      "authorship_tag": "ABX9TyOHX/7S8fGdK+ccUSsESpDg",
      "include_colab_link": true
    },
    "kernelspec": {
      "name": "python3",
      "display_name": "Python 3"
    },
    "language_info": {
      "name": "python"
    }
  },
  "cells": [
    {
      "cell_type": "markdown",
      "metadata": {
        "id": "view-in-github",
        "colab_type": "text"
      },
      "source": [
        "<a href=\"https://colab.research.google.com/github/VAMSIKOLLURI01/25coding-challenge/blob/main/day1.ipynb\" target=\"_parent\"><img src=\"https://colab.research.google.com/assets/colab-badge.svg\" alt=\"Open In Colab\"/></a>"
      ]
    },
    {
      "cell_type": "code",
      "execution_count": null,
      "metadata": {
        "colab": {
          "base_uri": "https://localhost:8080/"
        },
        "id": "JkaraV6Qcg6k",
        "outputId": "04389b10-65e3-447b-e4ad-0096c6868e29"
      },
      "outputs": [
        {
          "output_type": "stream",
          "name": "stdout",
          "text": [
            "enter the first side of triangle :3\n",
            "enter the first side of triangle :4\n",
            "enter the first side of triangle :5\n",
            "it is a right angle triangle\n"
          ]
        }
      ],
      "source": [
        "#pythogres therom using function\n",
        "def checkrightangletriangle(a,b,c):\n",
        "  if a**2 == b**2 + c**2 or b**2 == c**2 + a**2 or c**2 == a**2 + b**2:\n",
        "    print(\"it is a right angle triangle\" )\n",
        "  else:\n",
        "    print(\"it is not a right angle triangle\")\n",
        "a=int(input(\"enter the first side of triangle :\"))\n",
        "b=int(input(\"enter the first side of triangle :\"))\n",
        "c=int(input(\"enter the first side of triangle :\"))\n",
        "checkrightangletriangle(a,b,c)\n",
        "\n"
      ]
    },
    {
      "cell_type": "code",
      "source": [
        "#accept the sttring as input .your task is too determine if the input string string is the valid pascode\n",
        "def validpassword(pwd: str):\n",
        "  if 8<=len(pwd) <=32 and pwd[0].isalpha() and all(char not in pwd for char in [\" \",\" '\",\"/\",'\"','\\\\']):\n",
        "    return True\n",
        "  else:\n",
        "      return False\n",
        "validpassword('123hggkhg')\n"
      ],
      "metadata": {
        "colab": {
          "base_uri": "https://localhost:8080/"
        },
        "id": "L9-LE0GQd05H",
        "outputId": "db7750e0-20b2-4763-8df3-6014f2aa8658"
      },
      "execution_count": null,
      "outputs": [
        {
          "output_type": "execute_result",
          "data": {
            "text/plain": [
              "False"
            ]
          },
          "metadata": {},
          "execution_count": 7
        }
      ]
    },
    {
      "cell_type": "code",
      "source": [
        "#global and locsal scope code\n",
        "x=\"good boy\"\n",
        "#global scope\n",
        "def muyfun():\n",
        "  x=\" crazy boy\"\n",
        "  #local scope\n",
        "  print(\"vamsi is very \" + x)\n",
        "muyfun()\n",
        "\n",
        "\n"
      ],
      "metadata": {
        "id": "okLHVirZk6_a",
        "colab": {
          "base_uri": "https://localhost:8080/"
        },
        "outputId": "572a3c5e-d051-4eb4-c444-367fb3d2f64e"
      },
      "execution_count": null,
      "outputs": [
        {
          "output_type": "stream",
          "name": "stdout",
          "text": [
            "vamsi is very  crazy boy\n"
          ]
        }
      ]
    },
    {
      "cell_type": "markdown",
      "source": [
        "pyhon functional arguments\n"
      ],
      "metadata": {
        "id": "ZXeWyQDTz0WZ"
      }
    },
    {
      "cell_type": "code",
      "source": [
        "#postional arguments\n",
        "def add_number(a,b):\n",
        "  sum=a+b\n",
        "  print(\"sum:\",sum)\n",
        "add_number(2,4)"
      ],
      "metadata": {
        "colab": {
          "base_uri": "https://localhost:8080/"
        },
        "id": "j2gOrUAZmoAA",
        "outputId": "88a45f83-1be6-4cb1-88f7-acc9378587df"
      },
      "execution_count": null,
      "outputs": [
        {
          "output_type": "stream",
          "name": "stdout",
          "text": [
            "sum: 6\n"
          ]
        }
      ]
    },
    {
      "cell_type": "code",
      "source": [
        "def my_name(name):\n",
        "  print(\"my name is :\",name)\n",
        "my_name(\"vamsi\")"
      ],
      "metadata": {
        "colab": {
          "base_uri": "https://localhost:8080/"
        },
        "id": "Zyc2rFPU0btq",
        "outputId": "39ea0b5b-e4cd-473e-8fea-a3916f8eae16"
      },
      "execution_count": null,
      "outputs": [
        {
          "output_type": "stream",
          "name": "stdout",
          "text": [
            "my name is : vamsi\n"
          ]
        }
      ]
    },
    {
      "cell_type": "code",
      "source": [
        "def my_name(name=\"pw skills\"):\n",
        "  print(\"my couce is :\",name)\n",
        "my_name()"
      ],
      "metadata": {
        "colab": {
          "base_uri": "https://localhost:8080/"
        },
        "id": "-S7hdZLH2Zob",
        "outputId": "dbb77c38-5efc-4632-81e3-57739a8bf6d3"
      },
      "execution_count": null,
      "outputs": [
        {
          "output_type": "stream",
          "name": "stdout",
          "text": [
            "my couce is : pw skills\n"
          ]
        }
      ]
    },
    {
      "cell_type": "code",
      "source": [
        "#defalt values\n",
        "def add_number(a=8,b=9):\n",
        "  sum=a+b\n",
        "  return sum\n",
        "add_number()\n"
      ],
      "metadata": {
        "colab": {
          "base_uri": "https://localhost:8080/"
        },
        "id": "S_Zz4rNq02sW",
        "outputId": "aed86dd9-63c5-42dc-8aff-bcc78f08fb93"
      },
      "execution_count": null,
      "outputs": [
        {
          "output_type": "execute_result",
          "data": {
            "text/plain": [
              "17"
            ]
          },
          "metadata": {},
          "execution_count": 15
        }
      ]
    },
    {
      "cell_type": "code",
      "source": [
        "#give n number of values to the input\n",
        "def find_sum(*numbers):\n",
        "  result=0\n",
        "  for i in numbers:\n",
        "    result=result+i\n",
        "  print(i)\n",
        "find_sum(1,2,3)\n"
      ],
      "metadata": {
        "colab": {
          "base_uri": "https://localhost:8080/"
        },
        "id": "SqXxhXVV158f",
        "outputId": "e7defe45-13b2-4733-817e-a3f27c9fa1dd"
      },
      "execution_count": null,
      "outputs": [
        {
          "output_type": "stream",
          "name": "stdout",
          "text": [
            "3\n"
          ]
        }
      ]
    },
    {
      "cell_type": "code",
      "source": [],
      "metadata": {
        "id": "RFOa43-YFUkk"
      },
      "execution_count": null,
      "outputs": []
    }
  ]
}