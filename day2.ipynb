{
  "nbformat": 4,
  "nbformat_minor": 0,
  "metadata": {
    "colab": {
      "provenance": [],
      "authorship_tag": "ABX9TyNUjPkKH7hhe7nm5uqU5soA",
      "include_colab_link": true
    },
    "kernelspec": {
      "name": "python3",
      "display_name": "Python 3"
    },
    "language_info": {
      "name": "python"
    }
  },
  "cells": [
    {
      "cell_type": "markdown",
      "metadata": {
        "id": "view-in-github",
        "colab_type": "text"
      },
      "source": [
        "<a href=\"https://colab.research.google.com/github/VAMSIKOLLURI01/25coding-challenge/blob/main/day2.ipynb\" target=\"_parent\"><img src=\"https://colab.research.google.com/assets/colab-badge.svg\" alt=\"Open In Colab\"/></a>"
      ]
    },
    {
      "cell_type": "markdown",
      "source": [
        "LAMBDA FUNCTIONS\n"
      ],
      "metadata": {
        "id": "fp7NdtE2tfdW"
      }
    },
    {
      "cell_type": "code",
      "source": [
        "x=lambda :print(\"hello guys\")\n",
        "x()"
      ],
      "metadata": {
        "colab": {
          "base_uri": "https://localhost:8080/"
        },
        "id": "RLJeYRPOtk-k",
        "outputId": "e9627055-8e6a-4b80-b9c4-a379deccbc8e"
      },
      "execution_count": null,
      "outputs": [
        {
          "output_type": "stream",
          "name": "stdout",
          "text": [
            "hello guys\n"
          ]
        }
      ]
    },
    {
      "cell_type": "code",
      "source": [
        "y=lambda:print(\"i am using github to showcase my skills\")\n",
        "y()"
      ],
      "metadata": {
        "colab": {
          "base_uri": "https://localhost:8080/"
        },
        "id": "6D8RUS8huD73",
        "outputId": "ee24b3fd-2e44-4156-f2d8-9514e23a773d"
      },
      "execution_count": null,
      "outputs": [
        {
          "output_type": "stream",
          "name": "stdout",
          "text": [
            "i am using githunb to showcase my skills\n"
          ]
        }
      ]
    },
    {
      "cell_type": "code",
      "source": [
        "multiple=lambda a,b:a*b\n",
        "multiple(2,3)"
      ],
      "metadata": {
        "colab": {
          "base_uri": "https://localhost:8080/"
        },
        "id": "Agx-ZZakupMm",
        "outputId": "c3c50b3e-37d2-4a46-a0b6-dc9bca496406"
      },
      "execution_count": null,
      "outputs": [
        {
          "output_type": "execute_result",
          "data": {
            "text/plain": [
              "6"
            ]
          },
          "metadata": {},
          "execution_count": 8
        }
      ]
    },
    {
      "cell_type": "code",
      "source": [
        "v=int(input(\"enter the first number : \"))\n",
        "a=int(input(\"enter the second number : \"))\n",
        "sqa=lambda v,a:(v**2,a**2)\n",
        "print(sqa(v,a))"
      ],
      "metadata": {
        "colab": {
          "base_uri": "https://localhost:8080/"
        },
        "id": "6BIQIDemvOKy",
        "outputId": "34022716-f5ed-4aa8-ae83-7c6e73ae3b2e"
      },
      "execution_count": null,
      "outputs": [
        {
          "output_type": "stream",
          "name": "stdout",
          "text": [
            "enter the first number5\n",
            "enter the second number5\n",
            "(25, 25)\n"
          ]
        }
      ]
    },
    {
      "cell_type": "code",
      "source": [
        "i=int(input(\"number:\"))\n",
        "v=lambda i:\"true\" if i%2==0 else \"false\"\n",
        "v(4)"
      ],
      "metadata": {
        "colab": {
          "base_uri": "https://localhost:8080/",
          "height": 53
        },
        "id": "WQbsbZR9wmjc",
        "outputId": "7f80a053-6e36-4d36-d3e9-8210b3abebb2"
      },
      "execution_count": null,
      "outputs": [
        {
          "name": "stdout",
          "output_type": "stream",
          "text": [
            "number:6\n"
          ]
        },
        {
          "output_type": "execute_result",
          "data": {
            "text/plain": [
              "'true'"
            ],
            "application/vnd.google.colaboratory.intrinsic+json": {
              "type": "string"
            }
          },
          "metadata": {},
          "execution_count": 20
        }
      ]
    },
    {
      "cell_type": "code",
      "source": [
        "great_num = lambda a, b, c: a if (a > b or a > c) else (b if b > c else c)\n",
        "print(great_num(5, 10, 15))"
      ],
      "metadata": {
        "colab": {
          "base_uri": "https://localhost:8080/"
        },
        "id": "_liPMDJRxoxO",
        "outputId": "16c5052e-c034-446e-d0ab-03a492921673"
      },
      "execution_count": null,
      "outputs": [
        {
          "output_type": "stream",
          "name": "stdout",
          "text": [
            "15\n"
          ]
        }
      ]
    },
    {
      "cell_type": "code",
      "source": [
        "products = [\n",
        "    {'name':'product1','price':50},\n",
        "    {'name':'product2','price':40},\n",
        "    {'name':'product3','price':30},\n",
        "    {'name':'product4','price':20}\n",
        "]\n",
        "a=sorted(products,key=lambda x:x['price'])\n",
        "for i in a:\n",
        "\n",
        "  print(i)\n"
      ],
      "metadata": {
        "id": "Scz4VY4X0NKg",
        "colab": {
          "base_uri": "https://localhost:8080/"
        },
        "outputId": "694dc640-8312-4ff8-8789-8d5930931aa0"
      },
      "execution_count": 5,
      "outputs": [
        {
          "output_type": "stream",
          "name": "stdout",
          "text": [
            "{'name': 'product4', 'price': 20}\n",
            "{'name': 'product3', 'price': 30}\n",
            "{'name': 'product2', 'price': 40}\n",
            "{'name': 'product1', 'price': 50}\n"
          ]
        }
      ]
    },
    {
      "cell_type": "code",
      "source": [
        "i=input(\"string is : \")\n",
        "x=lambda i:\"'vowel'\" if  i in ['a','e','i','o','u'] else \"not a vowel\"\n",
        "print(x(i))"
      ],
      "metadata": {
        "colab": {
          "base_uri": "https://localhost:8080/"
        },
        "id": "9ADhiag9Msig",
        "outputId": "5a712885-d3dc-4b07-ab57-8b85d86fb74a"
      },
      "execution_count": 12,
      "outputs": [
        {
          "output_type": "stream",
          "name": "stdout",
          "text": [
            "string is : vamsi\n",
            "not a vowel\n"
          ]
        }
      ]
    },
    {
      "cell_type": "markdown",
      "source": [
        "build_in function"
      ],
      "metadata": {
        "id": "S0F2Ztj7S6ut"
      }
    },
    {
      "cell_type": "code",
      "source": [
        "x=-33\n",
        "abs(x)"
      ],
      "metadata": {
        "colab": {
          "base_uri": "https://localhost:8080/"
        },
        "id": "EQoKxSNgQCgc",
        "outputId": "a4c83824-f13b-41a1-b4c7-3c1ca0021576"
      },
      "execution_count": 13,
      "outputs": [
        {
          "output_type": "execute_result",
          "data": {
            "text/plain": [
              "33"
            ]
          },
          "metadata": {},
          "execution_count": 13
        }
      ]
    },
    {
      "cell_type": "code",
      "source": [
        "x=5\n",
        "id(x)"
      ],
      "metadata": {
        "colab": {
          "base_uri": "https://localhost:8080/"
        },
        "id": "87qkVulMTEo4",
        "outputId": "e34c606f-db21-43bd-dadb-187e601e6242"
      },
      "execution_count": 14,
      "outputs": [
        {
          "output_type": "execute_result",
          "data": {
            "text/plain": [
              "132663038247280"
            ]
          },
          "metadata": {},
          "execution_count": 14
        }
      ]
    },
    {
      "cell_type": "code",
      "source": [
        "x=[22,44,34]\n",
        "max(x)"
      ],
      "metadata": {
        "colab": {
          "base_uri": "https://localhost:8080/"
        },
        "id": "dchPJKVyTJL5",
        "outputId": "f5fe8e53-87b8-457a-99f4-7e0509c401fc"
      },
      "execution_count": 15,
      "outputs": [
        {
          "output_type": "execute_result",
          "data": {
            "text/plain": [
              "44"
            ]
          },
          "metadata": {},
          "execution_count": 15
        }
      ]
    },
    {
      "cell_type": "code",
      "source": [
        "min(x)"
      ],
      "metadata": {
        "colab": {
          "base_uri": "https://localhost:8080/"
        },
        "id": "kNvsVrfBTOPR",
        "outputId": "672f0d65-02be-496c-84e5-80a3fe23a1e2"
      },
      "execution_count": 16,
      "outputs": [
        {
          "output_type": "execute_result",
          "data": {
            "text/plain": [
              "22"
            ]
          },
          "metadata": {},
          "execution_count": 16
        }
      ]
    },
    {
      "cell_type": "code",
      "source": [
        "x=2\n",
        "y=str(x)\n",
        "y"
      ],
      "metadata": {
        "colab": {
          "base_uri": "https://localhost:8080/",
          "height": 36
        },
        "id": "Z1GBn2JwTSXa",
        "outputId": "71ab4460-38a6-495a-eebd-2731b2298417"
      },
      "execution_count": 17,
      "outputs": [
        {
          "output_type": "execute_result",
          "data": {
            "text/plain": [
              "'2'"
            ],
            "application/vnd.google.colaboratory.intrinsic+json": {
              "type": "string"
            }
          },
          "metadata": {},
          "execution_count": 17
        }
      ]
    },
    {
      "cell_type": "code",
      "source": [
        "#enumerate\n",
        "lang=['c','c++','pythonm','java']\n",
        "v=enumerate(lang,8)\n",
        "print(list(v))\n"
      ],
      "metadata": {
        "colab": {
          "base_uri": "https://localhost:8080/"
        },
        "id": "D_TWIhJjTerc",
        "outputId": "61685764-8e2c-4160-a64a-9e6b27caaa96"
      },
      "execution_count": 27,
      "outputs": [
        {
          "output_type": "stream",
          "name": "stdout",
          "text": [
            "[(8, 'c'), (9, 'c++'), (10, 'pythonm'), (11, 'java')]\n"
          ]
        }
      ]
    },
    {
      "cell_type": "code",
      "source": [
        "lst=[11,1,3,5,6,7,8,9,10]\n",
        "out=[x for x in lst if x%2==0]\n",
        "print(out)"
      ],
      "metadata": {
        "colab": {
          "base_uri": "https://localhost:8080/"
        },
        "id": "Va7s2tPjT6wT",
        "outputId": "b4da4ad1-5ef0-4f8a-853b-46ca3530cc98"
      },
      "execution_count": 31,
      "outputs": [
        {
          "output_type": "stream",
          "name": "stdout",
          "text": [
            "[6, 8, 10]\n"
          ]
        }
      ]
    },
    {
      "cell_type": "code",
      "source": [
        "  lst=[11,1,3,5,6,7,8,9,10]\n",
        "  o=[x if x>4 else 'lessthan4' for x in lst]"
      ],
      "metadata": {
        "id": "CRuDU-MEegX6"
      },
      "execution_count": 33,
      "outputs": []
    },
    {
      "cell_type": "code",
      "source": [],
      "metadata": {
        "id": "bLQZltnlgowT"
      },
      "execution_count": null,
      "outputs": []
    }
  ]
}